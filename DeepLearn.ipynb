{
 "cells": [
  {
   "cell_type": "markdown",
   "metadata": {},
   "source": [
    "# An Introduction to Deep Learning using nolearn"
   ]
  },
  {
   "cell_type": "markdown",
   "metadata": {},
   "source": [
    "<img src='Deep_Learning.jpg', width = 1000, height = 400>\n",
    "[Source](http://www.purdue.edu/newsroom/releases/2014/Q1/smartphone-to-become-smarter-with-deep-learning-innovation.html)\n",
    "\n",
    "One of the most well known problems in machine learning regards how to categorize [handwritten numbers](http://en.wikipedia.org/wiki/MNIST_database) automatically. Basically, the idea is that you have 10 different digits (0-9) and you want a computer to be able to correctly identify each number. This would come in handy at the post office, along with many other applications such as identifying address numbers in images. \n",
    "\n",
    "Different machine learning experts have worked on this problem for several years trying [a variety of approaches](http://yann.lecun.com/exdb/mnist/). Ultimately, however, the best algorithm for the task of image classification would be an algorithm that can fit features that aren't easily described. This is where neural networks truly shine. \n",
    "\n",
    "Deep learning has become quite the trendy subject recently. Here is an [example](http://venturebeat.com/2015/02/09/microsoft-researchers-say-their-newest-deep-learning-system-beats-humans-and-google/). Essentially, researchers are trying to use Deep Learning to categorize images better than a human could, something humans are typically better at doing naturally than a computer. \n",
    "\n",
    "If you want an idea as to how Deep Learning is being used (and how it works) listening to a talk from Dr. Andrew Ng is always a good idea!"
   ]
  },
  {
   "cell_type": "code",
   "execution_count": 1,
   "metadata": {
    "collapsed": false
   },
   "outputs": [
    {
     "data": {
      "text/html": [
       "\n",
       "        <iframe\n",
       "            width=\"400\"\n",
       "            height=\"300\"\n",
       "            src=\"https://www.youtube.com/embed/ZmNOAtZIgIk\"\n",
       "            frameborder=\"0\"\n",
       "            allowfullscreen\n",
       "        ></iframe>\n",
       "        "
      ],
      "text/plain": [
       "<IPython.lib.display.YouTubeVideo at 0x7f0909979990>"
      ]
     },
     "execution_count": 1,
     "metadata": {},
     "output_type": "execute_result"
    }
   ],
   "source": [
    "from IPython.display import YouTubeVideo\n",
    "YouTubeVideo('ZmNOAtZIgIk')"
   ]
  },
  {
   "cell_type": "markdown",
   "metadata": {},
   "source": [
    "Basically, the key part of deep learning is finding features that can be used for classification from UNLABELED training examples. More data = a more accurate model, most of the time. Labeling the myriad of images available on the web one at a time into categories would be very difficult and time consuming (although Amazon paid people money to do this through their [Mechnical Turk](https://www.mturk.com/mturk/welcome) program). Instead, just find features from your unlabeled images (such as certain curves, color gradients, or other features that humans would have a difficult time describing). Then, use these features to help categorize your images. It greatly improves the accuracy because now you have more data to work with!"
   ]
  },
  {
   "cell_type": "markdown",
   "metadata": {},
   "source": [
    "As a way of practicing this, we are going to use some Deep Learning on the MNIST dataset of numbers to see if we can get a low error rate. I couldn't decide which neural network library to use at first, since scikit-learn doesn't really have any. I became inspired by this post [here](http://www.pyimagesearch.com/2014/09/22/getting-started-deep-learning-python/) from Dr. Adrian Rosebrock. He used the library [nolearn](https://pythonhosted.org/nolearn/), which we will also be using. \n",
    "\n",
    "I just found out while writing this that the dbn class of nolearn is being removed entirely for the new version 0.6 and that the author suggests switching to [lasagne](https://github.com/dnouri/nolearn/blob/master/nolearn/lasagne.py). If you are going to follow along with this notebook, make sure you have a version prior to nolearn 0.6. "
   ]
  },
  {
   "cell_type": "markdown",
   "metadata": {},
   "source": [
    "## Processing the Images"
   ]
  },
  {
   "cell_type": "markdown",
   "metadata": {},
   "source": [
    "Just to get a starting idea of where we are beginning, let's try a very basic run of a deep belief network using nolearn. Because image processing can be fairly memory intensive, I am including the key steps of processing the data and wrapping them inside a function.\n",
    "\n",
    "Our function will load the MNIST data, transform it to a 0 to 1 scale for all of the pixel intensity values, and finally split the data into train and test sets. We need to scale the data between 0 to 1 so that the neural network will perform more efficiently. "
   ]
  },
  {
   "cell_type": "code",
   "execution_count": 4,
   "metadata": {
    "collapsed": false
   },
   "outputs": [],
   "source": [
    "import numpy as np\n",
    "from sklearn.datasets import fetch_mldata\n",
    "from sklearn.preprocessing import MinMaxScaler\n",
    "from sklearn.cross_validation import train_test_split"
   ]
  },
  {
   "cell_type": "code",
   "execution_count": 11,
   "metadata": {
    "collapsed": false
   },
   "outputs": [],
   "source": [
    "def train_test_prep():\n",
    "    '''\n",
    "    This function will load the MNIST data, scale it to a 0 to 1 range, and split it into test/train sets. \n",
    "    '''\n",
    "    \n",
    "    image_data = fetch_mldata('MNIST Original') # Get the MNIST dataset.\n",
    "    \n",
    "    basic_x = image_data.data\n",
    "    basic_y = image_data.target # Separate images from their final classification. \n",
    "    \n",
    "    min_max_scaler = MinMaxScaler() # Create the MinMax object.\n",
    "    basic_x = min_max_scaler.fit_transform(basic_x.astype(float)) # Scale pixel intensities only.\n",
    "    \n",
    "    x_train, x_test, y_train, y_test = train_test_split(basic_x, basic_y, \n",
    "                                                    test_size = 0.2, random_state = 0) # Split training/test.\n",
    "    return x_train, x_test, y_train, y_test"
   ]
  },
  {
   "cell_type": "markdown",
   "metadata": {},
   "source": [
    "Now, let's run our function to split the data and scale it."
   ]
  },
  {
   "cell_type": "code",
   "execution_count": 12,
   "metadata": {
    "collapsed": false
   },
   "outputs": [],
   "source": [
    "x_train, x_test, y_train, y_test = train_test_prep()"
   ]
  },
  {
   "cell_type": "markdown",
   "metadata": {},
   "source": [
    "## Creating A Deep Belief Network"
   ]
  },
  {
   "cell_type": "markdown",
   "metadata": {},
   "source": [
    "Given that we now have train/test data, let's try making a simple deep belief network and get a baseline error rate to start with."
   ]
  },
  {
   "cell_type": "code",
   "execution_count": 5,
   "metadata": {
    "collapsed": false
   },
   "outputs": [
    {
     "name": "stdout",
     "output_type": "stream",
     "text": [
      "gnumpy: failed to import cudamat. Using npmat instead. No GPU will be used.\n"
     ]
    }
   ],
   "source": [
    "from nolearn.dbn import DBN"
   ]
  },
  {
   "cell_type": "markdown",
   "metadata": {},
   "source": [
    "Notice that our version is not using cudamat. It would run a lot faster if we had a nice GPU to use, but since I am on a laptop that doesn't have a nice one, we are going to run this using the slower, CPU way. "
   ]
  },
  {
   "cell_type": "code",
   "execution_count": 7,
   "metadata": {
    "collapsed": false
   },
   "outputs": [],
   "source": [
    "dbn_model = DBN([x_train.shape[1], 300, 10],\n",
    "                learn_rates = 0.3,\n",
    "                learn_rate_decays = 0.9,\n",
    "                epochs = 10,\n",
    "                verbose = 1)"
   ]
  },
  {
   "cell_type": "markdown",
   "metadata": {},
   "source": [
    "We are using the example settings shown in the [documentation](https://pythonhosted.org/nolearn/dbn.html) just as a benchmark. So what do all of these settings mean?\n",
    "\n",
    "- The first row allows us to set the number of layers and nodes. Our input layer has 784 nodes, which is the number of pixels in each image. Our second layer, which is a hidden layer, has 300 nodes. These 300 nodes will become our unsupervised feature vector. This layer of nodes is then fed to the output layer, which has 10 nodes. One node for each possible digit (0-9). \n",
    "\n",
    "- The second row specifies the learning rate, which is essentially how large a step we are taking during gradient descent. Smaller steps mean a possibly more accurate result, but the training will take longer.\n",
    "\n",
    "- The learn_rate_decays specifies a factor the initial learning rate will be multiplied by after each iteration of the training. \n",
    "\n",
    "- Epochs is just a fancy way of saying the number of times the network will iterate over all of the training examples to minimize the cost function. More epochs is better, but it takes longer. \n",
    "\n",
    "- Verbose lets us see the progress of the deep belief network's training. Neural networks are slow to train! Especially compared to other machine learning algorithms. "
   ]
  },
  {
   "cell_type": "markdown",
   "metadata": {},
   "source": [
    "Now it is time to train our deep belief network. This could take a little bit . . ."
   ]
  },
  {
   "cell_type": "code",
   "execution_count": 8,
   "metadata": {
    "collapsed": false
   },
   "outputs": [
    {
     "name": "stdout",
     "output_type": "stream",
     "text": [
      "[DBN] fitting X.shape=(56000L, 784L)\n",
      "[DBN] layers [784L, 300, 10]\n",
      "[DBN] Fine-tune..."
     ]
    },
    {
     "name": "stderr",
     "output_type": "stream",
     "text": [
      "100%\n"
     ]
    },
    {
     "name": "stdout",
     "output_type": "stream",
     "text": [
      "\n",
      "Epoch 1:"
     ]
    },
    {
     "name": "stderr",
     "output_type": "stream",
     "text": [
      "100%\n"
     ]
    },
    {
     "name": "stdout",
     "output_type": "stream",
     "text": [
      "\n",
      "  loss 0.279465978376\n",
      "  err  0.0809107142857\n",
      "  (0:00:18)\n",
      "Epoch 2:"
     ]
    },
    {
     "name": "stderr",
     "output_type": "stream",
     "text": [
      "100%\n"
     ]
    },
    {
     "name": "stdout",
     "output_type": "stream",
     "text": [
      "\n",
      "  loss 0.167409065944\n",
      "  err  0.046625\n",
      "  (0:00:18)\n",
      "Epoch 3:"
     ]
    },
    {
     "name": "stderr",
     "output_type": "stream",
     "text": [
      "100%\n"
     ]
    },
    {
     "name": "stdout",
     "output_type": "stream",
     "text": [
      "\n",
      "  loss 0.132460369157\n",
      "  err  0.0375357142857\n",
      "  (0:00:18)\n",
      "Epoch 4:"
     ]
    },
    {
     "name": "stderr",
     "output_type": "stream",
     "text": [
      "100%\n"
     ]
    },
    {
     "name": "stdout",
     "output_type": "stream",
     "text": [
      "\n",
      "  loss 0.0866091957473\n",
      "  err  0.0255178571429\n",
      "  (0:00:18)\n",
      "Epoch 5:"
     ]
    },
    {
     "name": "stderr",
     "output_type": "stream",
     "text": [
      "100%\n"
     ]
    },
    {
     "name": "stdout",
     "output_type": "stream",
     "text": [
      "\n",
      "  loss 0.0682315404487\n",
      "  err  0.0213928571429\n",
      "  (0:00:17)\n",
      "Epoch 6:"
     ]
    },
    {
     "name": "stderr",
     "output_type": "stream",
     "text": [
      "100%\n"
     ]
    },
    {
     "name": "stdout",
     "output_type": "stream",
     "text": [
      "\n",
      "  loss 0.0499247853743\n",
      "  err  0.0155892857143\n",
      "  (0:00:18)\n",
      "Epoch 7:"
     ]
    },
    {
     "name": "stderr",
     "output_type": "stream",
     "text": [
      "100%\n"
     ]
    },
    {
     "name": "stdout",
     "output_type": "stream",
     "text": [
      "\n",
      "  loss 0.0399979346272\n",
      "  err  0.0127142857143\n",
      "  (0:00:17)\n",
      "Epoch 8:"
     ]
    },
    {
     "name": "stderr",
     "output_type": "stream",
     "text": [
      "100%\n"
     ]
    },
    {
     "name": "stdout",
     "output_type": "stream",
     "text": [
      "\n",
      "  loss 0.0325180868268\n",
      "  err  0.00998214285714\n",
      "  (0:00:17)\n",
      "Epoch 9:"
     ]
    },
    {
     "name": "stderr",
     "output_type": "stream",
     "text": [
      "100%\n"
     ]
    },
    {
     "name": "stdout",
     "output_type": "stream",
     "text": [
      "\n",
      "  loss 0.0249244378868\n",
      "  err  0.00791071428571\n",
      "  (0:00:17)\n",
      "Epoch 10:\n",
      "  loss 0.0177347917291\n",
      "  err  0.00503571428571\n",
      "  (0:00:18)\n"
     ]
    }
   ],
   "source": [
    "dbn_model.fit(x_train, y_train)"
   ]
  },
  {
   "cell_type": "markdown",
   "metadata": {},
   "source": [
    "After about 3 and a half minutes, our network is ready! Let's see how accurate it is on the test data, just to get an idea of where we are starting from. "
   ]
  },
  {
   "cell_type": "code",
   "execution_count": 6,
   "metadata": {
    "collapsed": false
   },
   "outputs": [],
   "source": [
    "from sklearn.metrics import classification_report, accuracy_score"
   ]
  },
  {
   "cell_type": "code",
   "execution_count": 10,
   "metadata": {
    "collapsed": false
   },
   "outputs": [
    {
     "name": "stdout",
     "output_type": "stream",
     "text": [
      "             precision    recall  f1-score   support\n",
      "\n",
      "        0.0       0.98      0.99      0.99      1312\n",
      "        1.0       0.99      0.98      0.99      1604\n",
      "        2.0       0.98      0.98      0.98      1348\n",
      "        3.0       0.98      0.97      0.98      1427\n",
      "        4.0       0.98      0.98      0.98      1362\n",
      "        5.0       0.97      0.98      0.97      1280\n",
      "        6.0       0.99      0.99      0.99      1397\n",
      "        7.0       0.98      0.98      0.98      1461\n",
      "        8.0       0.97      0.98      0.98      1390\n",
      "        9.0       0.97      0.97      0.97      1419\n",
      "\n",
      "avg / total       0.98      0.98      0.98     14000\n",
      "\n",
      "The accuracy is: 0.9795\n"
     ]
    }
   ],
   "source": [
    "y_true, y_pred = y_test, dbn_model.predict(x_test) # Get our predictions\n",
    "print(classification_report(y_true, y_pred)) # Classification on each digit\n",
    "print 'The accuracy is:', accuracy_score(y_true, y_pred)"
   ]
  },
  {
   "cell_type": "markdown",
   "metadata": {},
   "source": [
    "So, our starting accuracy is pretty close to 98% at 97.95%. It looks like the model is doing a good job, but it is having more trouble with the number 5 and 9 based on the lower f1-scores for those two numbers. Is there any way we can boost our score? \n",
    "\n",
    "Well, it would be nice if we had more images we could work with. That way, we could fit the missed examples better. There is a way we can solve this problem: create our own training examples!\n",
    "\n",
    "This is a common solution in the area of image classification. Some of the handwritten images may not be aligned correctly, or may be slightly rotated. To account for this in the model, let's add some \"noise\" to our training set and see if we can improve some. In addition, let's try using some more advanced features of the Deep Belief Network, such as more epochs and some regularization to avoid overfitting. \n",
    "\n"
   ]
  },
  {
   "cell_type": "markdown",
   "metadata": {},
   "source": [
    "## Artificial Training Examples"
   ]
  },
  {
   "cell_type": "markdown",
   "metadata": {},
   "source": [
    "To augment the size of our training set, we need to create a function that will change our original images just a little bit. We want to include a bit of translation (moving the pixels around) and rotation, both at random. To see how this will work, let's create a function that will randomly alter an existing training example.\n",
    "\n",
    "First, let's take a look at one of the training examples, reverting it back to its original form and plotting it."
   ]
  },
  {
   "cell_type": "code",
   "execution_count": 21,
   "metadata": {
    "collapsed": false
   },
   "outputs": [],
   "source": [
    "import matplotlib.pyplot as plt"
   ]
  },
  {
   "cell_type": "code",
   "execution_count": 22,
   "metadata": {
    "collapsed": false
   },
   "outputs": [
    {
     "data": {
      "text/plain": [
       "<matplotlib.image.AxesImage at 0xd5dc588>"
      ]
     },
     "execution_count": 22,
     "metadata": {},
     "output_type": "execute_result"
    },
    {
     "data": {
      "image/png": "[encoded data removed]",
      "text/plain": [
       "<matplotlib.figure.Figure at 0xa8e6550>"
      ]
     },
     "metadata": {},
     "output_type": "display_data"
    }
   ],
   "source": [
    "sample = np.reshape(x_train[0], ((28,28))) # Get the training data back to its original form.\n",
    "sample = sample*255. # Get the original pixel values.\n",
    "plt.imshow(sample, cmap = plt.cm.gray)"
   ]
  },
  {
   "cell_type": "markdown",
   "metadata": {},
   "source": [
    "We can see this is clearly a 7. Now, let's make our function that will rotate and translate the image and view the sample again."
   ]
  },
  {
   "cell_type": "code",
   "execution_count": 7,
   "metadata": {
    "collapsed": false
   },
   "outputs": [],
   "source": [
    "from scipy.ndimage import convolve, rotate"
   ]
  },
  {
   "cell_type": "code",
   "execution_count": 8,
   "metadata": {
    "collapsed": false
   },
   "outputs": [],
   "source": [
    "def random_image_generator(image):\n",
    "    '''\n",
    "    This function will randomly translate and rotate an image, producing a new, altered version as output.\n",
    "    '''\n",
    "    \n",
    "    # Create our movement vectors for translation first. \n",
    "    \n",
    "    move_up = [[0, 1, 0],\n",
    "              [0, 0, 0],\n",
    "              [0, 0, 0]]\n",
    "    \n",
    "    move_left = [[0, 0, 0],\n",
    "                 [1, 0, 0],\n",
    "                 [0, 0, 0]]\n",
    "    \n",
    "    move_right = [[0, 0, 0],\n",
    "                  [0, 0, 1],\n",
    "                  [0, 0, 0]]\n",
    "                               \n",
    "    move_down = [[0, 0, 0],\n",
    "                 [0, 0, 0],\n",
    "                 [0, 1, 0]]\n",
    "    \n",
    "    # Create a dict to store these directions in.\n",
    "    \n",
    "    dir_dict = {1:move_up, 2:move_left, 3:move_right, 4:move_down}\n",
    "    \n",
    "    # Pick a random direction to move.\n",
    "    \n",
    "    direction = dir_dict[np.random.randint(1,5)]\n",
    "    \n",
    "    # Pick a random angle to rotate (10 degrees clockwise to 10 degrees counter-clockwise).\n",
    "    \n",
    "    angle = np.random.randint(-10,11)\n",
    "    \n",
    "    # Move the random direction and change the pixel data back to a 2D shape.\n",
    "    \n",
    "    moved = convolve(image.reshape(28,28), direction, mode = 'constant')\n",
    "    \n",
    "    # Rotate the image\n",
    "    \n",
    "    rotated = rotate(moved, angle, reshape = False)\n",
    "    \n",
    "    return rotated\n",
    "    "
   ]
  },
  {
   "cell_type": "markdown",
   "metadata": {},
   "source": [
    "Now what happens to the image if we change it randomly?"
   ]
  },
  {
   "cell_type": "code",
   "execution_count": 24,
   "metadata": {
    "collapsed": false
   },
   "outputs": [
    {
     "data": {
      "text/plain": [
       "<matplotlib.image.AxesImage at 0xdbc2128>"
      ]
     },
     "execution_count": 24,
     "metadata": {},
     "output_type": "execute_result"
    },
    {
     "data": {
      "image/png": "[encoded data removed]",
      "text/plain": [
       "<matplotlib.figure.Figure at 0xd5ee2b0>"
      ]
     },
     "metadata": {},
     "output_type": "display_data"
    }
   ],
   "source": [
    "distorted_example = random_image_generator(x_train[0]*255.)\n",
    "plt.imshow(distorted_example, cmap = plt.cm.gray)"
   ]
  },
  {
   "cell_type": "markdown",
   "metadata": {},
   "source": [
    "What you see will vary if you are using this notebook interactively (since the distortions are random), but in this case the 7 is more upright now and slightly lower. \n",
    "\n",
    "In theory we could make an infinite number of these artifical training examples to help improve our Deep Belief Network (if we had a lot of memory of course!) \n",
    "\n",
    "To make sure we don't run out of memory, let's create a function that will augment our training set internally with an additional amount of artifical examples. It will call the random_image_generator function inside itself."
   ]
  },
  {
   "cell_type": "code",
   "execution_count": 9,
   "metadata": {
    "collapsed": false
   },
   "outputs": [],
   "source": [
    "def extra_training_examples(features, targets, num_new):\n",
    "    '''\n",
    "    This function will take the training set and increase it by artifically adding new training examples.\n",
    "    We can also specify how many training examples we wish to add with the num_new parameter.\n",
    "    '''\n",
    "    \n",
    "    # First, create empty arrays that will hold our new training examples.\n",
    "    \n",
    "    x_holder = np.zeros((num_new, features.shape[1]))\n",
    "    y_holder = np.zeros(num_new)\n",
    "    \n",
    "    # Now, loop through our training examples, selecting them at random for distortion.\n",
    "    \n",
    "    for i in xrange(num_new):\n",
    "        # Pick a random index to decide which image to alter.\n",
    "        \n",
    "        random_ind = np.random.randint(0, features.shape[0])\n",
    "        \n",
    "        # Select our training example and target.\n",
    "        \n",
    "        x_samp = features[random_ind]\n",
    "        y_samp = targets[random_ind]\n",
    "        \n",
    "        # Change our image and convert back to 1D.\n",
    "        \n",
    "        new_image = random_image_generator(x_samp).ravel()\n",
    "        \n",
    "        # Store these in our arrays.\n",
    "        \n",
    "        x_holder[i,:] = new_image\n",
    "        y_holder[i] = y_samp\n",
    "\n",
    "    # Now that our loop is over, combine our original training examples with the new ones.\n",
    "    \n",
    "    combined_x = np.vstack((features, x_holder))\n",
    "    combined_y = np.hstack((targets, y_holder))\n",
    "        \n",
    "        # Return our new training examples and targets.\n",
    "        \n",
    "    return combined_x, combined_y\n",
    "        \n",
    "        \n",
    "    "
   ]
  },
  {
   "cell_type": "markdown",
   "metadata": {},
   "source": [
    "Let's now make our new x_train and y_train objects and replace the old ones with these new, larger ones."
   ]
  },
  {
   "cell_type": "code",
   "execution_count": 13,
   "metadata": {
    "collapsed": false
   },
   "outputs": [],
   "source": [
    "x_train, y_train = extra_training_examples(x_train, y_train, 10000)"
   ]
  },
  {
   "cell_type": "markdown",
   "metadata": {},
   "source": [
    "Originally, we had 56,000 training examples. Now how many do we have?"
   ]
  },
  {
   "cell_type": "code",
   "execution_count": 14,
   "metadata": {
    "collapsed": false
   },
   "outputs": [
    {
     "data": {
      "text/plain": [
       "66000L"
      ]
     },
     "execution_count": 14,
     "metadata": {},
     "output_type": "execute_result"
    }
   ],
   "source": [
    "x_train.shape[0]"
   ]
  },
  {
   "cell_type": "markdown",
   "metadata": {},
   "source": [
    "Good it worked. Now let's try running our same DBN model again with the expanded training set to see if we can improve our accuracy at all.\n",
    "Let's use the same settings as last time."
   ]
  },
  {
   "cell_type": "code",
   "execution_count": 20,
   "metadata": {
    "collapsed": false
   },
   "outputs": [
    {
     "name": "stdout",
     "output_type": "stream",
     "text": [
      "             precision    recall  f1-score   support\n",
      "\n",
      "        0.0       0.99      0.99      0.99      1312\n",
      "        1.0       0.98      0.99      0.99      1604\n",
      "        2.0       0.97      0.98      0.97      1348\n",
      "        3.0       0.98      0.97      0.98      1427\n",
      "        4.0       0.99      0.96      0.97      1362\n",
      "        5.0       0.98      0.97      0.97      1280\n",
      "        6.0       0.99      0.99      0.99      1397\n",
      "        7.0       0.99      0.97      0.98      1461\n",
      "        8.0       0.95      0.98      0.97      1390\n",
      "        9.0       0.95      0.97      0.96      1419\n",
      "\n",
      "avg / total       0.98      0.98      0.98     14000\n",
      "\n",
      "The accuracy is: 0.976857142857\n"
     ]
    }
   ],
   "source": [
    "dbn_model = DBN([x_train.shape[1], 300, 10],\n",
    "                learn_rates = 0.3,\n",
    "                learn_rate_decays = 0.9,\n",
    "                epochs = 10) # I am turning off the verbose statements this time.\n",
    "\n",
    "dbn_model.fit(x_train, y_train)\n",
    "y_true, y_pred = y_test, dbn_model.predict(x_test) # Get our predictions\n",
    "print(classification_report(y_true, y_pred)) # Classification on each digit\n",
    "print 'The accuracy is:', accuracy_score(y_true, y_pred)\n"
   ]
  },
  {
   "cell_type": "markdown",
   "metadata": {},
   "source": [
    "Now hold on a minute! Our accuracy actually went DOWN a bit from 97.95% to 97.69%. The F1-scores have dropped for several numbers, especially our 9s. \n",
    "\n",
    "So what went wrong?\n",
    "\n",
    "Well there are several possibilities, but a likely candidate in this case is that our additional noise confused the model. In other words, we are underfitting now and we need to make the Network either more complex (additional hidden nodes), decrease the learning rate, or train it longer (more epochs). In the next section we shall try all three to see if that helps."
   ]
  },
  {
   "cell_type": "markdown",
   "metadata": {},
   "source": [
    "## Tuning the Network"
   ]
  },
  {
   "cell_type": "markdown",
   "metadata": {},
   "source": [
    "Because of our larger training set, we need to make some changes to our original Deep Belief Network. Next, we are going to try this again with three changes:\n",
    "\n",
    "- Decrease our learning rate from 0.3 to 0.2 for smaller steps during gradient descent\n",
    "- Increase the number of hidden nodes from 300 to 500\n",
    "- Increase the number of training epochs from 10 to 50\n",
    "\n",
    "After doing these changes, we should be able to get a better result. The downside is that model training will now take longer. Be prepared to wait a little while for this model to finish (my laptop ended up taking about 30 minutes). This might be a good time to watch the Deep Learning video from the beginning if you haven't already."
   ]
  },
  {
   "cell_type": "code",
   "execution_count": 21,
   "metadata": {
    "collapsed": false
   },
   "outputs": [
    {
     "name": "stdout",
     "output_type": "stream",
     "text": [
      "             precision    recall  f1-score   support\n",
      "\n",
      "        0.0       0.99      0.99      0.99      1312\n",
      "        1.0       0.99      0.99      0.99      1604\n",
      "        2.0       0.98      0.98      0.98      1348\n",
      "        3.0       0.98      0.98      0.98      1427\n",
      "        4.0       0.98      0.98      0.98      1362\n",
      "        5.0       0.99      0.97      0.98      1280\n",
      "        6.0       0.99      0.99      0.99      1397\n",
      "        7.0       0.98      0.98      0.98      1461\n",
      "        8.0       0.98      0.98      0.98      1390\n",
      "        9.0       0.98      0.97      0.98      1419\n",
      "\n",
      "avg / total       0.98      0.98      0.98     14000\n",
      "\n",
      "The accuracy is: 0.983714285714\n"
     ]
    }
   ],
   "source": [
    "dbn_model = DBN([x_train.shape[1], 500, 10], # Increased the hidden nodes to add more complex features.\n",
    "                learn_rates = 0.2, # Smaller steps for gradient descent.\n",
    "                learn_rate_decays = 0.9,\n",
    "                epochs = 50) # Give the model more time to converge.\n",
    "\n",
    "dbn_model.fit(x_train, y_train)\n",
    "y_true, y_pred = y_test, dbn_model.predict(x_test) # Get our predictions\n",
    "print(classification_report(y_true, y_pred)) # Classification on each digit\n",
    "print 'The accuracy is:', accuracy_score(y_true, y_pred)"
   ]
  },
  {
   "cell_type": "markdown",
   "metadata": {},
   "source": [
    "Well that certainly helped! Our overall accuracy went up to 98.37%, with increases in many of the f1-scores, especially for the 9 digit. However, with our added model complexity, it is likely our network overfit (neural networks tend to do this quite well!) There is a way we can correct for this to see if we can get just a little more accuracy. Most other machine learning algorithms that overfit can have this corrected through regularization. For neural networks, that means something called \"dropout,\" where we randomly disconnect a certain percentage of our nodes.  "
   ]
  },
  {
   "cell_type": "markdown",
   "metadata": {},
   "source": [
    "## Regularization of The Network: Dropout"
   ]
  },
  {
   "cell_type": "markdown",
   "metadata": {},
   "source": [
    "Fortunately, nolearn has a parameter we can set to do this quite easily (we will just have to wait a while while our model is trained again!) Let's load our model object, this time with an added parameter for dropout. We will choose 25% (I found this to work well from some limited testing).  "
   ]
  },
  {
   "cell_type": "code",
   "execution_count": 17,
   "metadata": {
    "collapsed": false
   },
   "outputs": [
    {
     "name": "stdout",
     "output_type": "stream",
     "text": [
      "             precision    recall  f1-score   support\n",
      "\n",
      "        0.0       0.99      1.00      0.99      1312\n",
      "        1.0       0.99      0.99      0.99      1604\n",
      "        2.0       0.98      0.99      0.98      1348\n",
      "        3.0       0.99      0.98      0.98      1427\n",
      "        4.0       0.99      0.99      0.99      1362\n",
      "        5.0       0.99      0.97      0.98      1280\n",
      "        6.0       0.99      0.99      0.99      1397\n",
      "        7.0       0.98      0.98      0.98      1461\n",
      "        8.0       0.98      0.99      0.98      1390\n",
      "        9.0       0.98      0.98      0.98      1419\n",
      "\n",
      "avg / total       0.99      0.99      0.99     14000\n",
      "\n",
      "The accuracy is: 0.985357142857\n"
     ]
    }
   ],
   "source": [
    "dbn_model = DBN([x_train.shape[1], 500, 10], \n",
    "                learn_rates = 0.2, \n",
    "                learn_rate_decays = 0.9,\n",
    "                dropouts = 0.25, # Express the percentage of nodes that will be randomly dropped as a decimal.\n",
    "                epochs = 50) \n",
    "\n",
    "dbn_model.fit(x_train, y_train)\n",
    "y_true, y_pred = y_test, dbn_model.predict(x_test) # Get our predictions\n",
    "print(classification_report(y_true, y_pred)) # Classification on each digit\n",
    "print 'The accuracy is:', accuracy_score(y_true, y_pred)"
   ]
  },
  {
   "cell_type": "markdown",
   "metadata": {},
   "source": [
    "Once again, we can see that our accuracy went up to 98.54%, and the dropout regularization prevented some of the overfitting! That's probably about the best we are going to be able to do given the constraints of using a laptop (locally that is: no cloud computing). What else could be done to increase performance? "
   ]
  },
  {
   "cell_type": "markdown",
   "metadata": {},
   "source": [
    "## Ideas for Improvement and Summary"
   ]
  },
  {
   "cell_type": "markdown",
   "metadata": {},
   "source": [
    "In this notebook, we examined a somewhat simplistic application of deep learning to classify images of numbers from the MNIST dataset. We tried several techniques to improve the performance of our classifier, such as augmentation of the training set with our own artificial examples, changing the learning rate, and adding additional hidden units. We also explored dropout to prevent overfitting of the network. In the end, we were able to get decent performance out of our Deep Belief Network, improving our initial accuracy from 97.95% to 98.54% and increasing the f1 score for most of our classification categories. \n",
    "\n",
    "Possible ideas for improvement:\n",
    "\n",
    "- Try utilizing a GPU (graphics processing unit) to train our network instead. Neural networks tend to be much faster when using one (or several!) You could either configure nolearn with cudamat on a remote instance such as AWS (Amazon Web Services) or use a graphics card on a more powerful desktop computer. Adrian Rosebrook's post experiments with that [here](http://www.pyimagesearch.com/2014/10/13/deep-learning-amazon-ec2-gpu-python-nolearn/).\n",
    "\n",
    "- Experiment with different parameters for further fine tuning. We could try increasing the number of layers for further complexity or increasing the number of epochs.\n",
    "\n",
    "- Try a larger number of artificial examples (if we have more memory available) to see how that improves the accuracy further. Doing so with enough additional examples should make pushing 99% accuracy a reality.\n",
    "\n"
   ]
  }
 ],
 "metadata": {
  "kernelspec": {
   "display_name": "Python 2",
   "language": "python",
   "name": "python2"
  },
  "language_info": {
   "codemirror_mode": {
    "name": "ipython",
    "version": 2
   },
   "file_extension": ".py",
   "mimetype": "text/x-python",
   "name": "python",
   "nbconvert_exporter": "python",
   "pygments_lexer": "ipython2",
   "version": "2.7.6"
  }
 },
 "nbformat": 4,
 "nbformat_minor": 0
}
